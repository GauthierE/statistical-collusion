{
 "cells": [
  {
   "cell_type": "code",
   "execution_count": null,
   "metadata": {},
   "outputs": [],
   "source": [
    "import sys\n",
    "import os\n",
    "\n",
    "current_path = os.getcwd()\n",
    "\n",
    "project_root = os.path.abspath(os.path.join(current_path, '..', '..'))\n",
    "\n",
    "sys.path.append(project_root)"
   ]
  },
  {
   "cell_type": "code",
   "execution_count": null,
   "metadata": {},
   "outputs": [],
   "source": [
    "from src.utils import *\n",
    "\n",
    "# load the original dataset\n",
    "df = load_data(project_root+'/data/car_data_synthetic.csv')\n",
    "df = df.astype('str')"
   ]
  },
  {
   "cell_type": "code",
   "execution_count": null,
   "metadata": {},
   "outputs": [],
   "source": [
    "y_star = 'Poor'"
   ]
  },
  {
   "cell_type": "code",
   "execution_count": null,
   "metadata": {},
   "outputs": [],
   "source": [
    "g = {'Model Type':'SUV','Fuel Type':'Diesel','Transmission Type':'Manual','Drive Type':'RWD','Safety Rating':'4 stars','Interior Material':'Synthetic','Infotainment System':'Premium','Warranty Length':'10 years','Number of Doors':'5','Number of Seats':'5','Air Conditioning':'Yes','Navigation System':'Advanced','Tire Type':'All-Season','Sunroof':'Yes','Sound System':'Premium','Cruise Control':'Yes','Bluetooth Connectivity':'Yes'}"
   ]
  },
  {
   "cell_type": "code",
   "execution_count": null,
   "metadata": {},
   "outputs": [],
   "source": [
    "Ntest = 100000\n",
    "delta = 0.05\n",
    "epsilon = 0\n",
    "\n",
    "# store the lower bounds\n",
    "lbs20 = [] # N = 2,000,000\n",
    "lbs10 = [] # N = 1,000,000\n",
    "lbs5 = [] # N = 500,000"
   ]
  },
  {
   "cell_type": "code",
   "execution_count": null,
   "metadata": {},
   "outputs": [],
   "source": [
    "N = 500000\n",
    "n_values5 = np.concatenate((np.arange(500000//100,round(500000*0.3)+1,500000//200),np.array([200000]),np.array([300000]),np.array([400000]),np.array([499000])))\n",
    "np.save(project_root+'/output/signal-planting-N/n_values5.npy', n_values5)"
   ]
  },
  {
   "cell_type": "code",
   "execution_count": null,
   "metadata": {},
   "outputs": [],
   "source": [
    "for n in n_values5:\n",
    "    signalP = SignalPlanting(df,N,n,Ntest,g,y_star,delta,epsilon)\n",
    "    signalP.compute_Delta(signalP.dn)\n",
    "    signalP.compute_Proba(signalP.dn)\n",
    "    lb = signalP.compute_lower_bound()\n",
    "    lbs5.append(lb)\n",
    "    print(f\"n={n} done\")\n",
    "\n",
    "np.save(project_root+'/output/signal-planting-N/lbs5.npy', lbs5)"
   ]
  },
  {
   "cell_type": "code",
   "execution_count": null,
   "metadata": {},
   "outputs": [],
   "source": [
    "N = 1000000\n",
    "n_values10 = np.concatenate((np.arange(1000000//100,round(1000000*0.3)+1,1000000//200),np.array([400000]),np.array([600000]),np.array([800000]),np.array([999000])))\n",
    "np.save(project_root+'/output/signal-planting-N/n_values10.npy', n_values10)"
   ]
  },
  {
   "cell_type": "code",
   "execution_count": null,
   "metadata": {},
   "outputs": [],
   "source": [
    "for n in n_values10:\n",
    "    signalP = SignalPlanting(df,N,n,Ntest,g,y_star,delta,epsilon)\n",
    "    signalP.compute_Delta(signalP.dn)\n",
    "    signalP.compute_Proba(signalP.dn)\n",
    "    lb = signalP.compute_lower_bound()\n",
    "    lbs10.append(lb)\n",
    "    print(f\"n={n} done\")\n",
    "    \n",
    "np.save(project_root+'/output/signal-planting-N/lbs10.npy', lbs10)"
   ]
  },
  {
   "cell_type": "code",
   "execution_count": null,
   "metadata": {},
   "outputs": [],
   "source": [
    "N = 2000000\n",
    "n_values20 = np.concatenate((np.arange(2000000//100,round(2000000*0.3)+1,2000000//200),np.array([800000]),np.array([1200000]),np.array([1600000]),np.array([1999000])))\n",
    "np.save(project_root+'/output/signal-planting-N/n_values20.npy', n_values20)"
   ]
  },
  {
   "cell_type": "code",
   "execution_count": null,
   "metadata": {},
   "outputs": [],
   "source": [
    "for n in n_values20:\n",
    "    signalP = SignalPlanting(df,N,n,Ntest,g,y_star,delta,epsilon)\n",
    "    signalP.compute_Delta(signalP.dn)\n",
    "    signalP.compute_Proba(signalP.dn)\n",
    "    lb = signalP.compute_lower_bound()\n",
    "    lbs20.append(lb)\n",
    "    print(f\"n={n} done\")\n",
    "\n",
    "np.save(project_root+'/output/signal-planting-N/lbs20.npy', lbs20)"
   ]
  }
 ],
 "metadata": {
  "kernelspec": {
   "display_name": "Python 3",
   "language": "python",
   "name": "python3"
  },
  "language_info": {
   "codemirror_mode": {
    "name": "ipython",
    "version": 3
   },
   "file_extension": ".py",
   "mimetype": "text/x-python",
   "name": "python",
   "nbconvert_exporter": "python",
   "pygments_lexer": "ipython3",
   "version": "3.11.9"
  }
 },
 "nbformat": 4,
 "nbformat_minor": 2
}
