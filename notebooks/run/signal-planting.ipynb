{
 "cells": [
  {
   "cell_type": "code",
   "execution_count": null,
   "metadata": {},
   "outputs": [],
   "source": [
    "import sys\n",
    "import os\n",
    "\n",
    "current_path = os.getcwd()\n",
    "\n",
    "project_root = os.path.abspath(os.path.join(current_path, '..', '..'))\n",
    "\n",
    "sys.path.append(project_root)"
   ]
  },
  {
   "cell_type": "code",
   "execution_count": null,
   "metadata": {},
   "outputs": [],
   "source": [
    "from src.utils import *\n",
    "\n",
    "# load the original dataset\n",
    "df = load_data(project_root+'/data/car_data_synthetic.csv')\n",
    "df = df.astype('str')"
   ]
  },
  {
   "cell_type": "code",
   "execution_count": null,
   "metadata": {},
   "outputs": [],
   "source": [
    "g = {'Model Type':'SUV','Fuel Type':'Diesel','Transmission Type':'Manual','Drive Type':'RWD','Safety Rating':'4 stars','Interior Material':'Synthetic','Infotainment System':'Premium','Warranty Length':'10 years','Number of Doors':'5','Number of Seats':'5','Air Conditioning':'Yes','Navigation System':'Advanced','Tire Type':'All-Season','Sunroof':'Yes','Sound System':'Premium','Cruise Control':'Yes','Bluetooth Connectivity':'Yes'}"
   ]
  },
  {
   "cell_type": "code",
   "execution_count": null,
   "metadata": {},
   "outputs": [],
   "source": [
    "N = 1000000\n",
    "n_values = np.concatenate((np.arange(1000,200000,20000),np.array([200000]),np.array([300000]),np.array([400000]),np.array([500000])))\n",
    "Ntest = 100000\n",
    "delta = 0.05\n",
    "epsilon = 0\n",
    "\n",
    "# store the lower bounds for target label y^* = Excellent, Good, Average, or Poor\n",
    "lbsE = []\n",
    "lbsG = []\n",
    "lbsA = []\n",
    "lbsP = []\n",
    "# store the successes for target label y^* = Excellent, Good, Average, or Poor\n",
    "SE = []\n",
    "SG = []\n",
    "SA = []\n",
    "SP = []"
   ]
  },
  {
   "cell_type": "code",
   "execution_count": null,
   "metadata": {},
   "outputs": [],
   "source": [
    "np.save(project_root+'/output/signal-planting/n_values.npy', n_values)"
   ]
  },
  {
   "cell_type": "code",
   "execution_count": null,
   "metadata": {},
   "outputs": [],
   "source": [
    "for n in n_values:\n",
    "    signalP = SignalPlanting(df,N,n,Ntest,g,'Excellent',delta,epsilon)\n",
    "    signalP.compute_Delta(signalP.dn)\n",
    "    signalP.compute_Proba(signalP.dn)\n",
    "    lb = signalP.compute_lower_bound()\n",
    "    lbsE.append(lb)\n",
    "    s = signalP.compute_success()\n",
    "    SE.append(s)\n",
    "    print(f\"n={n} done\")\n",
    "\n",
    "np.save(project_root+'/output/signal-planting/lbsE.npy', lbsE)\n",
    "np.save(project_root+'/output/signal-planting/SE.npy', SE)"
   ]
  },
  {
   "cell_type": "code",
   "execution_count": null,
   "metadata": {},
   "outputs": [],
   "source": [
    "for n in n_values:\n",
    "    signalP = SignalPlanting(df,N,n,Ntest,g,'Good',delta,epsilon)\n",
    "    signalP.compute_Delta(signalP.dn)\n",
    "    signalP.compute_Proba(signalP.dn)\n",
    "    lb = signalP.compute_lower_bound()\n",
    "    lbsG.append(lb)\n",
    "    s = signalP.compute_success()\n",
    "    SG.append(s)\n",
    "    print(f\"n={n} done\")\n",
    "\n",
    "np.save(project_root+'/output/signal-planting/lbsG.npy', lbsG)\n",
    "np.save(project_root+'/output/signal-planting/SG.npy', SG)"
   ]
  },
  {
   "cell_type": "code",
   "execution_count": null,
   "metadata": {},
   "outputs": [],
   "source": [
    "for n in n_values:\n",
    "    signalP = SignalPlanting(df,N,n,Ntest,g,'Average',delta,epsilon)\n",
    "    signalP.compute_Delta(signalP.dn)\n",
    "    signalP.compute_Proba(signalP.dn)\n",
    "    lb = signalP.compute_lower_bound()\n",
    "    lbsA.append(lb)\n",
    "    s = signalP.compute_success()\n",
    "    SA.append(s)\n",
    "    print(f\"n={n} done\")\n",
    "\n",
    "np.save(project_root+'/output/signal-planting/lbsA.npy', lbsA)\n",
    "np.save(project_root+'/output/signal-planting/SA.npy', SA)"
   ]
  },
  {
   "cell_type": "code",
   "execution_count": null,
   "metadata": {},
   "outputs": [],
   "source": [
    "for n in n_values:\n",
    "    signalP = SignalPlanting(df,N,n,Ntest,g,'Poor',delta,epsilon)\n",
    "    signalP.compute_Delta(signalP.dn)\n",
    "    signalP.compute_Proba(signalP.dn)\n",
    "    lb = signalP.compute_lower_bound()\n",
    "    lbsP.append(lb)\n",
    "    s = signalP.compute_success()\n",
    "    SP.append(s)\n",
    "    print(f\"n={n} done\")\n",
    "\n",
    "np.save(project_root+'/output/signal-planting/lbsignalP.npy', lbsP)\n",
    "np.save(project_root+'/output/signal-planting/SP.npy', SP)"
   ]
  }
 ],
 "metadata": {
  "kernelspec": {
   "display_name": "Python 3",
   "language": "python",
   "name": "python3"
  },
  "language_info": {
   "codemirror_mode": {
    "name": "ipython",
    "version": 3
   },
   "file_extension": ".py",
   "mimetype": "text/x-python",
   "name": "python",
   "nbconvert_exporter": "python",
   "pygments_lexer": "ipython3",
   "version": "3.11.9"
  }
 },
 "nbformat": 4,
 "nbformat_minor": 2
}
