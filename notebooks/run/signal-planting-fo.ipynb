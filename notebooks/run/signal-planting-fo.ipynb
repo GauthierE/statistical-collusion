{
 "cells": [
  {
   "cell_type": "code",
   "execution_count": null,
   "metadata": {},
   "outputs": [],
   "source": [
    "import sys\n",
    "import os\n",
    "\n",
    "current_path = os.getcwd()\n",
    "\n",
    "project_root = os.path.abspath(os.path.join(current_path, '..', '..'))\n",
    "\n",
    "sys.path.append(project_root)"
   ]
  },
  {
   "cell_type": "code",
   "execution_count": null,
   "metadata": {},
   "outputs": [],
   "source": [
    "from src.utils import *\n",
    "\n",
    "# load the original dataset\n",
    "df = load_data(project_root+'/data/car_data_synthetic.csv')\n",
    "df = df.astype('str')"
   ]
  },
  {
   "cell_type": "code",
   "execution_count": null,
   "metadata": {},
   "outputs": [],
   "source": [
    "g = {'Model Type':'SUV','Fuel Type':'Diesel','Transmission Type':'Manual','Drive Type':'RWD','Safety Rating':'4 stars','Interior Material':'Synthetic','Infotainment System':'Premium','Warranty Length':'10 years','Number of Doors':'5','Number of Seats':'5','Air Conditioning':'Yes','Navigation System':'Advanced','Tire Type':'All-Season','Sunroof':'Yes','Sound System':'Premium','Cruise Control':'Yes','Bluetooth Connectivity':'Yes'}"
   ]
  },
  {
   "cell_type": "code",
   "execution_count": null,
   "metadata": {},
   "outputs": [],
   "source": [
    "x0 = {'Model Type':'Sedan','Fuel Type':'Diesel','Transmission Type':'Automatic','Drive Type':'RWD','Safety Rating':'1 star','Interior Material':'Synthetic','Infotainment System':'Premium','Warranty Length':'7 years','Number of Doors':'5','Number of Seats':'5','Air Conditioning':'Yes','Navigation System':'Advanced','Tire Type':'All-Season','Sunroof':'No','Sound System':'Premium','Cruise Control':'No','Bluetooth Connectivity':'No'}"
   ]
  },
  {
   "cell_type": "code",
   "execution_count": null,
   "metadata": {},
   "outputs": [],
   "source": [
    "N = 1000000\n",
    "# n_values used for success\n",
    "n_valuesS = np.concatenate((np.arange(1000,500000,50000),np.array([500000]),np.array([600000]),np.array([800000]),np.array([999000])))\n",
    "Ntest = 100000\n",
    "delta = 0.05\n",
    "epsilon = 0\n",
    "\n",
    "np.save(project_root+'/output/signal-planting-fo/n_valuesS.npy', n_valuesS)"
   ]
  },
  {
   "cell_type": "code",
   "execution_count": null,
   "metadata": {},
   "outputs": [],
   "source": [
    "SE = []\n",
    "for n in n_valuesS:\n",
    "    signalP = SignalPlantingFO(df,N,n,Ntest,g,x0,'Excellent',delta,epsilon)\n",
    "    s = signalP.compute_success()\n",
    "    SE.append(s)\n",
    "    print(f\"n={n} done\")\n",
    "\n",
    "np.save(project_root+'/output/signal-planting-fo/SE.npy', SE)"
   ]
  },
  {
   "cell_type": "code",
   "execution_count": null,
   "metadata": {},
   "outputs": [],
   "source": [
    "SG = []\n",
    "for n in n_valuesS:\n",
    "    signalP = SignalPlantingFO(df,N,n,Ntest,g,x0,'Good',delta,epsilon)\n",
    "    s = signalP.compute_success()\n",
    "    SG.append(s)\n",
    "    print(f\"n={n} done\")\n",
    "\n",
    "np.save(project_root+'/output/signal-planting-fo/SG.npy', SG)"
   ]
  },
  {
   "cell_type": "code",
   "execution_count": null,
   "metadata": {},
   "outputs": [],
   "source": [
    "SA = []\n",
    "for n in n_valuesS:\n",
    "    signalP = SignalPlantingFO(df,N,n,Ntest,g,x0,'Average',delta,epsilon)\n",
    "    s = signalP.compute_success()\n",
    "    SA.append(s)\n",
    "    print(f\"n={n} done\")\n",
    "\n",
    "np.save(project_root+'/output/signal-planting-fo/SA.npy', SA)"
   ]
  },
  {
   "cell_type": "code",
   "execution_count": null,
   "metadata": {},
   "outputs": [],
   "source": [
    "SP = []\n",
    "for n in n_valuesS:\n",
    "    signalP = SignalPlantingFO(df,N,n,Ntest,g,x0,'Poor',delta,epsilon)\n",
    "    s = signalP.compute_success()\n",
    "    SP.append(s)\n",
    "    print(f\"n={n} done\")\n",
    "\n",
    "np.save(project_root+'/output/signal-planting-fo/SP.npy', SP)"
   ]
  },
  {
   "cell_type": "code",
   "execution_count": null,
   "metadata": {},
   "outputs": [],
   "source": [
    "n_valuesE = np.concatenate((np.arange(1000,300000,50000), np.array([400000]),np.array([600000]),np.array([800000]),np.array([999000])))\n",
    "np.save(project_root+'/output/signal-planting-fo/n_valuesE.npy', n_valuesE)"
   ]
  },
  {
   "cell_type": "code",
   "execution_count": null,
   "metadata": {},
   "outputs": [],
   "source": [
    "lbsE = []\n",
    "\n",
    "for n in n_valuesE:\n",
    "    signalP = SignalPlantingFO(df,N,n,Ntest,g,x0,'Excellent',delta,epsilon)\n",
    "    signalP.compute_Delta(signalP.dn)\n",
    "    signalP.compute_Proba(signalP.dn)\n",
    "    lb = signalP.compute_lower_bound()\n",
    "    lbsE.append(lb)\n",
    "    print(f\"n={n} done\")\n",
    "\n",
    "np.save(project_root+'/output/signal-planting-fo/lbsE.npy', lbsE)"
   ]
  },
  {
   "cell_type": "code",
   "execution_count": null,
   "metadata": {},
   "outputs": [],
   "source": [
    "n_valuesG = np.concatenate((np.arange(1000,400000,50000), np.array([400000]),np.array([600000]),np.array([800000]),np.array([999000])))\n",
    "np.save(project_root+'/output/signal-planting-fo/n_valuesG.npy', n_valuesG)"
   ]
  },
  {
   "cell_type": "code",
   "execution_count": null,
   "metadata": {},
   "outputs": [],
   "source": [
    "lbsG = []\n",
    "\n",
    "for n in n_valuesG:\n",
    "    signalP = SignalPlantingFO(df,N,n,Ntest,g,x0,'Good',delta,epsilon)\n",
    "    signalP.compute_Delta(signalP.dn)\n",
    "    signalP.compute_Proba(signalP.dn)\n",
    "    lb = signalP.compute_lower_bound()\n",
    "    lbsG.append(lb)\n",
    "    print(f\"n={n} done\")\n",
    "\n",
    "np.save(project_root+'/output/signal-planting-fo/lbsG.npy', lbsG)"
   ]
  },
  {
   "cell_type": "code",
   "execution_count": null,
   "metadata": {},
   "outputs": [],
   "source": [
    "n_valuesA = np.concatenate((np.array([1000]),np.array([200000]),np.array([400000]),np.arange(600000,999000,50000),np.array([999000])))\n",
    "np.save(project_root+'/output/signal-planting-fo/n_valuesA.npy', n_valuesA)"
   ]
  },
  {
   "cell_type": "code",
   "execution_count": null,
   "metadata": {},
   "outputs": [],
   "source": [
    "lbsA = []\n",
    "\n",
    "for n in n_valuesA:\n",
    "    signalP = SignalPlantingFO(df,N,n,Ntest,g,x0,'Average',delta,epsilon)\n",
    "    signalP.compute_Delta(signalP.dn)\n",
    "    signalP.compute_Proba(signalP.dn)\n",
    "    lb = signalP.compute_lower_bound()\n",
    "    lbsA.append(lb)\n",
    "    print(f\"n={n} done\")\n",
    "\n",
    "np.save(project_root+'/output/signal-planting-fo/lbsA.npy', lbsA)"
   ]
  },
  {
   "cell_type": "code",
   "execution_count": null,
   "metadata": {},
   "outputs": [],
   "source": [
    "n_valuesP = np.concatenate((np.array([1000]),np.array([200000]),np.array([400000]),np.arange(600000,999000,50000),np.array([999000])))\n",
    "np.save(project_root+'/output/signal-planting-fo/n_valuesP.npy', n_valuesP)"
   ]
  },
  {
   "cell_type": "code",
   "execution_count": null,
   "metadata": {},
   "outputs": [],
   "source": [
    "lbsP = []\n",
    "\n",
    "for n in n_valuesP:\n",
    "    signalP = SignalPlantingFO(df,N,n,Ntest,g,x0,'Poor',delta,epsilon)\n",
    "    signalP.compute_Delta(signalP.dn)\n",
    "    signalP.compute_Proba(signalP.dn)\n",
    "    lb = signalP.compute_lower_bound()\n",
    "    lbsP.append(lb)\n",
    "    print(f\"n={n} done\")\n",
    "\n",
    "np.save(project_root+'/output/signal-planting-fo/lbsP.npy', lbsP)"
   ]
  }
 ],
 "metadata": {
  "kernelspec": {
   "display_name": "Python 3",
   "language": "python",
   "name": "python3"
  },
  "language_info": {
   "codemirror_mode": {
    "name": "ipython",
    "version": 3
   },
   "file_extension": ".py",
   "mimetype": "text/x-python",
   "name": "python",
   "nbconvert_exporter": "python",
   "pygments_lexer": "ipython3",
   "version": "3.11.9"
  }
 },
 "nbformat": 4,
 "nbformat_minor": 2
}
