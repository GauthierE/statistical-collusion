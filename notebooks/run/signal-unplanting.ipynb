{
 "cells": [
  {
   "cell_type": "code",
   "execution_count": null,
   "metadata": {},
   "outputs": [],
   "source": [
    "import sys\n",
    "import os\n",
    "\n",
    "current_path = os.getcwd()\n",
    "\n",
    "project_root = os.path.abspath(os.path.join(current_path, '..', '..'))\n",
    "\n",
    "sys.path.append(project_root)"
   ]
  },
  {
   "cell_type": "code",
   "execution_count": null,
   "metadata": {},
   "outputs": [],
   "source": [
    "from src.utils import *\n",
    "\n",
    "# load the original dataset\n",
    "df = load_data(project_root+'/data/car_data_synthetic.csv')\n",
    "df = df.astype('str')"
   ]
  },
  {
   "cell_type": "code",
   "execution_count": null,
   "metadata": {},
   "outputs": [],
   "source": [
    "y_star = 'Excellent'\n",
    "g = {'Model Type':'SUV','Fuel Type':'Diesel','Transmission Type':'Manual','Drive Type':'RWD','Safety Rating':'4 stars','Interior Material':'Synthetic','Infotainment System':'Premium','Warranty Length':'10 years','Number of Doors':'5','Number of Seats':'5','Air Conditioning':'Yes','Navigation System':'Advanced','Tire Type':'All-Season','Sunroof':'Yes','Sound System':'Premium','Cruise Control':'Yes','Bluetooth Connectivity':'Yes'}"
   ]
  },
  {
   "cell_type": "code",
   "execution_count": null,
   "metadata": {},
   "outputs": [],
   "source": [
    "N = 1000000\n",
    "n_values = np.arange(10100,350001,10000)\n",
    "Ntest = 100000\n",
    "delta = 0.05\n",
    "epsilon = 0\n",
    "\n",
    "np.save(project_root+'/output/signal-unplanting/n_values.npy', n_values)"
   ]
  },
  {
   "cell_type": "code",
   "execution_count": null,
   "metadata": {},
   "outputs": [],
   "source": [
    "lbs10000 = [] # n_est = 10,000\n",
    "\n",
    "for n in n_values:\n",
    "    ne = 10000\n",
    "    signalU = SignalUnplanting(df,N,n,ne,Ntest,g,y_star,delta,epsilon)\n",
    "    signalU.compute_yhat(signalU.de)\n",
    "    signalU.compute_Delta(signalU.dn,signalU.de)\n",
    "    signalU.compute_Proba(signalU.dn)\n",
    "    lb = signalU.compute_lower_bound()\n",
    "    lbs10000.append(lb)\n",
    "    print(f\"n={n} done\")\n",
    "\n",
    "np.save(project_root+'/output/signal-unplanting/lbs10000.npy', lbs10000)"
   ]
  },
  {
   "cell_type": "code",
   "execution_count": null,
   "metadata": {},
   "outputs": [],
   "source": [
    "lbs2000 = [] # n_est = 2,000\n",
    "\n",
    "for n in n_values:\n",
    "    ne = 2000\n",
    "    signalU = SignalUnplanting(df,N,n,ne,Ntest,g,y_star,delta,epsilon)\n",
    "    signalU.compute_yhat(signalU.de)\n",
    "    signalU.compute_Delta(signalU.dn,signalU.de)\n",
    "    signalU.compute_Proba(signalU.dn)\n",
    "    lb = signalU.compute_lower_bound()\n",
    "    lbs2000.append(lb)\n",
    "    print(f\"n={n} done\")\n",
    "\n",
    "np.save(project_root+'/output/signal-unplanting/lbs2000.npy', lbs2000)"
   ]
  },
  {
   "cell_type": "code",
   "execution_count": null,
   "metadata": {},
   "outputs": [],
   "source": [
    "lbs100 = [] # n_est = 100\n",
    "\n",
    "for n in n_values:\n",
    "    ne = 100\n",
    "    signalU = SignalUnplanting(df,N,n,ne,Ntest,g,y_star,delta,epsilon)\n",
    "    signalU.compute_yhat(signalU.de)\n",
    "    signalU.compute_Delta(signalU.dn,signalU.de)\n",
    "    signalU.compute_Proba(signalU.dn)\n",
    "    lb = signalU.compute_lower_bound()\n",
    "    lbs100.append(lb)\n",
    "    print(f\"n={n} done\")\n",
    "\n",
    "np.save(project_root+'/output/signal-unplanting/lbs100.npy', lbs100)"
   ]
  },
  {
   "cell_type": "code",
   "execution_count": null,
   "metadata": {},
   "outputs": [],
   "source": [
    "n_valuesS = np.arange(2100,350001,10000)\n",
    "np.save(project_root+'/output/signal-unplanting-est/n_valuesS.npy', n_valuesS)"
   ]
  },
  {
   "cell_type": "code",
   "execution_count": null,
   "metadata": {},
   "outputs": [],
   "source": [
    "S = [] # stores the success for unplanting strategy with n_est = 2,000\n",
    "\n",
    "for n in n_valuesS:\n",
    "    ne = 2000\n",
    "    signalU = SignalUnplanting(df,N,n,ne,Ntest,g,y_star,delta,epsilon)\n",
    "    signalU.compute_yhat(signalU.de)\n",
    "    s = signalU.compute_success()\n",
    "    S.append(s)\n",
    "    print(f\"n={n} done\")\n",
    "\n",
    "np.save(project_root+'/output/signal-unplanting/S.npy', S)"
   ]
  },
  {
   "cell_type": "code",
   "execution_count": null,
   "metadata": {},
   "outputs": [],
   "source": [
    "lbsG = []\n",
    "\n",
    "for n in n_values:\n",
    "    signalP = SignalPlanting(df,N,n,Ntest,g,'Good',delta,epsilon)\n",
    "    signalP.compute_Delta(signalP.dn)\n",
    "    signalP.compute_Proba(signalP.dn)\n",
    "    lb = signalP.compute_lower_bound()\n",
    "    lbsG.append(lb)\n",
    "    print(f\"n={n} done\")\n",
    "\n",
    "np.save(project_root+'/output/signal-unplanting/lbsG.npy', lbsG)"
   ]
  },
  {
   "cell_type": "code",
   "execution_count": null,
   "metadata": {},
   "outputs": [],
   "source": [
    "lbsA = []\n",
    "\n",
    "for n in n_values:\n",
    "    signalP = SignalPlanting(df,N,n,Ntest,g,'Average',delta,epsilon)\n",
    "    signalP.compute_Delta(signalP.dn)\n",
    "    signalP.compute_Proba(signalP.dn)\n",
    "    lb = signalP.compute_lower_bound()\n",
    "    lbsA.append(lb)\n",
    "    print(f\"n={n} done\")\n",
    "\n",
    "np.save(project_root+'/output/signal-unplanting/lbsA.npy', lbsA)"
   ]
  },
  {
   "cell_type": "code",
   "execution_count": null,
   "metadata": {},
   "outputs": [],
   "source": [
    "lbsP = []\n",
    "\n",
    "for n in n_values:\n",
    "    signalP = SignalPlanting(df,N,n,Ntest,g,'Poor',delta,epsilon)\n",
    "    signalP.compute_Delta(signalP.dn)\n",
    "    signalP.compute_Proba(signalP.dn)\n",
    "    lb = signalP.compute_lower_bound()\n",
    "    lbsP.append(lb)\n",
    "    print(f\"n={n} done\")\n",
    "\n",
    "np.save(project_root+'/output/signal-unplanting/lbsP.npy', lbsP)"
   ]
  }
 ],
 "metadata": {
  "kernelspec": {
   "display_name": "Python 3",
   "language": "python",
   "name": "python3"
  },
  "language_info": {
   "codemirror_mode": {
    "name": "ipython",
    "version": 3
   },
   "file_extension": ".py",
   "mimetype": "text/x-python",
   "name": "python",
   "nbconvert_exporter": "python",
   "pygments_lexer": "ipython3",
   "version": "3.11.9"
  }
 },
 "nbformat": 4,
 "nbformat_minor": 2
}
